{
 "cells": [
  {
   "cell_type": "code",
   "execution_count": 3,
   "id": "c4b935ec",
   "metadata": {},
   "outputs": [
    {
     "name": "stdout",
     "output_type": "stream",
     "text": [
      "字串已成功寫入檔案: lab02unicode.txt\n"
     ]
    }
   ],
   "source": [
    "import io\n",
    "import codecs\n",
    "\n",
    "def write_string_to_unicode_file(text, file_path):\n",
    "    # 將字串編碼成Unicode\n",
    "    unicode_text = text.encode('utf-16le', 'ignore')\n",
    "\n",
    "    # 寫入檔案\n",
    "    with codecs.open(file_path, 'wb') as file:\n",
    "        # 寫入Unicode編碼的BOM (Byte Order Mark)\n",
    "        file.write(codecs.BOM_UTF16_LE)\n",
    "\n",
    "        # 寫入Unicode編碼的字串\n",
    "        file.write(unicode_text)\n",
    "\n",
    "if __name__ == \"__main__\":\n",
    "    text = \"A1105505 產生一個 Unicode  file\"  # 要寫入的字串\n",
    "    file_path = \"lab02unicode.txt\"  # 指定要寫入的檔案路徑\n",
    "\n",
    "    # 寫入字串到檔案\n",
    "    write_string_to_unicode_file(text, file_path)\n",
    "\n",
    "    print(\"字串已成功寫入檔案:\", file_path)"
   ]
  },
  {
   "cell_type": "code",
   "execution_count": 4,
   "id": "61198ebd",
   "metadata": {},
   "outputs": [
    {
     "name": "stdout",
     "output_type": "stream",
     "text": [
      "字串已成功寫入檔案: lab02big5.txt\n"
     ]
    }
   ],
   "source": [
    "import io\n",
    "import codecs\n",
    "\n",
    "def write_string_to_big5_file(text, file_path):\n",
    "    # 將字串編碼成Big5\n",
    "    big5_text = text.encode('big5', 'ignore')\n",
    "\n",
    "    # 寫入檔案\n",
    "    with codecs.open(file_path, 'wb') as file:\n",
    "        # 寫入Big5編碼的字串\n",
    "        file.write(big5_text)\n",
    "\n",
    "if __name__ == \"__main__\":\n",
    "    text = \"A1105505 產生一個 Big5  file\"  # 要寫入的字串\n",
    "    file_path = \"lab02big5.txt\"  # 指定要寫入的檔案路徑\n",
    "\n",
    "    # 寫入字串到檔案\n",
    "    write_string_to_big5_file(text, file_path)\n",
    "\n",
    "    print(\"字串已成功寫入檔案:\", file_path)"
   ]
  },
  {
   "cell_type": "code",
   "execution_count": null,
   "id": "900ea3c4",
   "metadata": {},
   "outputs": [],
   "source": []
  }
 ],
 "metadata": {
  "kernelspec": {
   "display_name": "Python 3 (ipykernel)",
   "language": "python",
   "name": "python3"
  },
  "language_info": {
   "codemirror_mode": {
    "name": "ipython",
    "version": 3
   },
   "file_extension": ".py",
   "mimetype": "text/x-python",
   "name": "python",
   "nbconvert_exporter": "python",
   "pygments_lexer": "ipython3",
   "version": "3.11.4"
  }
 },
 "nbformat": 4,
 "nbformat_minor": 5
}
